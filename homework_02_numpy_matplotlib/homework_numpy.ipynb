{
 "cells": [
  {
   "cell_type": "code",
   "execution_count": 57,
   "metadata": {},
   "outputs": [
    {
     "name": "stdout",
     "output_type": "stream",
     "text": [
      "255 9 [[167 117  92 142 114 167 181 180 169 102]\n",
      " [198 172  21 153  34  69 123 122 162 167]\n",
      " [129  29 129 103 172 102 142  58 166  61]\n",
      " [175  19 168  11  20  18  86 135 225 109]\n",
      " [156 157  87  83 167 117  81 193  76  96]\n",
      " [ 94  12 249 176  15 148 233  22  90 157]\n",
      " [162 189  99 114   9  77 202 127 255  23]\n",
      " [ 26  72 239 127 110  25 167 224 246  15]\n",
      " [117 174 249 103  12 218 195 227 129 244]\n",
      " [ 39  75 141 127 198  83   9 106 142 167]]\n"
     ]
    }
   ],
   "source": [
    "#%matplotlib inline\n",
    "import numpy as np\n",
    "from numpy import mat\n",
    "#from pylab import *\n",
    "#import matplotlib\n",
    "#import matplotlib.pyplot as plt\n",
    "\n",
    "        \n",
    "    \n",
    "    \n",
    "    #回带\n",
    "\n",
    "#homework_02_01\n",
    "A = np.random.randint(0,256,size = (4,4))\n",
    "B = np.pad(A,((1,1),(1,1)),'constant')\n",
    "\n",
    "#homework_02_02\n",
    "C = np.random.randint(0,256,size = (5,5))\n",
    "C[4,:4] = range(1,5)\n",
    "\n",
    "#homework_02_03\n",
    "D = np.zeros((8,8))\n",
    "for i in range(D.shape[0]):\n",
    "    for j in range(D.shape[1]):\n",
    "        if (i+j) % 2 == 1:\n",
    "            D[i,j] = 1\n",
    "\n",
    "#homework_02_04\n",
    "E = [[3., 4., 2.],\n",
    "     [5., 3., 4.],\n",
    "     [8., 2., 7.]]\n",
    "F = [[10],\n",
    "     [14],\n",
    "     [20]]\n",
    "x = mat(E).I*mat(F)\n",
    "\n",
    "#homework_02_05\n",
    "G = np.random.randint(0,256,size = (8))\n",
    "H = G.tolist()\n",
    "H.reverse()\n",
    "#print(H)\n",
    "\n",
    "#homework_02_06\n",
    "I = np.random.randint(0,256,size = (10,10))\n",
    "IMax = np.max(I)\n",
    "IMin = np.min(I)\n"
   ]
  },
  {
   "cell_type": "code",
   "execution_count": null,
   "metadata": {},
   "outputs": [],
   "source": []
  }
 ],
 "metadata": {
  "kernelspec": {
   "display_name": "Python 3",
   "language": "python",
   "name": "python3"
  },
  "language_info": {
   "codemirror_mode": {
    "name": "ipython",
    "version": 3
   },
   "file_extension": ".py",
   "mimetype": "text/x-python",
   "name": "python",
   "nbconvert_exporter": "python",
   "pygments_lexer": "ipython3",
   "version": "3.6.6"
  }
 },
 "nbformat": 4,
 "nbformat_minor": 2
}
