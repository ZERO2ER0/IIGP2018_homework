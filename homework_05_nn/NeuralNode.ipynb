{
 "cells": [
  {
   "cell_type": "code",
   "execution_count": 36,
   "metadata": {},
   "outputs": [
    {
     "name": "stdout",
     "output_type": "stream",
     "text": [
      "In unitTest_naiveTrain\n",
      "Weight =  [0.29373382 0.15079825]  Bias =  [0.11117843 0.11117843]\n"
     ]
    }
   ],
   "source": [
    "# moon dataset\n",
    "%matplotlib inline\n",
    "import numpy as np\n",
    "from sklearn import datasets\n",
    "import matplotlib.pyplot as plt\n",
    "class NeuralNode:\n",
    "    #构造函数\n",
    "    def __init__(self, inputDim):\n",
    "        #当前结点与前一级的连接数目\n",
    "        self.iDims = inputDim\n",
    "        #权重向量，Shape = (iDims, )\n",
    "        self.weight = np.random.rand(self.iDims)\n",
    "        #self.weight = np.ones(self.iDims)\n",
    "        #偏置 \n",
    "        self.bias = 1\n",
    "        #激活函数的输入\n",
    "        self.z = 1\n",
    "        #当前层的残差\n",
    "        self.delta = 1\n",
    "        #前级节点的输入向量，必须与iDims匹配，Shape = (iDims, )的向量\n",
    "        self.x = []\n",
    "\n",
    "    #forward: 输入1*iDims向量，计算前向结果\n",
    "    def forward(self, ix):\n",
    "        #print(\"x.shape\",ix.shape,\" iDims\",self.iDims)\n",
    "        if (ix.shape != (self.iDims,)):\n",
    "            print (\"Wrong input shape: x.shape = \" + str(ix.shape))\n",
    "            return\n",
    "        self.x = ix\n",
    "        self.dotValue = np.dot(self.x,self.weight) + self.bias\n",
    "        return sigmoid(self.dotValue)\n",
    "    #backward: 输入前一级计算出的梯度，输出为两个数组\n",
    "      #第一个数组: dx，iDims*1向量，即当前节点对于前一级每个输入的梯度\n",
    "      #第二个数组：dw，iDims*1向量，当前节点对于每个权重的梯度\n",
    "      #第三个数组：dbias, 1*1向量，当前节点对于偏置量的梯度\n",
    "    def backward(self, gradient):\n",
    "        ddot =  (1-self.dotValue) * self.dotValue #Sigmoid函数的求导\n",
    "        dx = self.weight*ddot*gradient # 回传到x\n",
    "        dw = self.x*ddot*gradient # 回传到w\n",
    "        dbias = ddot*gradient # 回传到bias\n",
    "        return [dx, dw, dbias]\n",
    "     #根据学习率和梯度调整weight和bias参数\n",
    "    def adjustWeightAndBias(self, learnRate, dw, dbias):\n",
    "        self.weight = self.weight - learnRate*dw\n",
    "        self.bias = self.bias - learnRate*dbias\n",
    "    #打印节点内部参数\n",
    "    def printParam(self):\n",
    "        print(\"Weight = \", self.weight , \" Bias = \", self.bias)\n",
    "\n",
    "    def getParam(self):\n",
    "        return [self.weight, self.bias]\n",
    "\n",
    "\n",
    "def sigmoid(x):\n",
    "    result = 1 / (1 + np.exp(-1*x))\n",
    "    return result\n",
    "\n",
    "def unitTest_naiveTrain():\n",
    "    print(\"In unitTest_naiveTrain\")\n",
    "    n1 = NeuralNode(2)\n",
    "    #n1.printParam();\n",
    "    prevWeight = n1.weight\n",
    "    x = np.ones(2)\n",
    "    x[0] = 2\n",
    "    x[1] = 2\n",
    "\n",
    "    target = 1/(1+np.exp(1))\n",
    "    # generate sample data\n",
    "    #np.random.seed(0)\n",
    "    #X, target = datasets.make_moons(200, noise=0.20)\n",
    "    #print(target)\n",
    "    # plot data\n",
    "#     plt.scatter(X[:, 0], X[:, 1], c=target, cmap=plt.cm.Spectral)\n",
    "#     plt.show()\n",
    "    \n",
    "    \n",
    "    counter = 0\n",
    "    for i in range(1000000):\n",
    "        counter=i\n",
    "        #print(\"Round\",i)\n",
    "        fowardResult = n1.forward(x) #200*1\n",
    "        #print(\"Forward Result:\",fowardResult)\n",
    "        loss = (fowardResult-target)*(fowardResult-target)#200*1\n",
    "        #print(\"Loss=\",loss)\n",
    "        dLossdvalue = 2*(target-fowardResult)\n",
    "        grad = n1.backward(dLossdvalue)\n",
    "        #print \"grad=\",grad\n",
    "        n1.adjustWeightAndBias(0.001, grad[0], grad[1])\n",
    "        if np.sum(np.abs(prevWeight - n1.weight)) < 1e-7:\n",
    "            break\n",
    "        prevWeight = n1.weight\n",
    "        #n1.printParam()\n",
    "        #print(\"\")\n",
    "    n1.printParam()\n",
    "    return [counter, loss, n1.weight, n1.bias]\n",
    "    \n",
    "    \n",
    "if __name__ == '__main__':\n",
    "    naiveResultStr = \"\"\n",
    "    for i in range(1):\n",
    "        naiveResult =  unitTest_naiveTrain()\n"
   ]
  },
  {
   "cell_type": "code",
   "execution_count": 23,
   "metadata": {},
   "outputs": [
    {
     "name": "stdout",
     "output_type": "stream",
     "text": [
      "[1. 1.]\n",
      "[2. 2.]\n"
     ]
    }
   ],
   "source": []
  },
  {
   "cell_type": "code",
   "execution_count": null,
   "metadata": {},
   "outputs": [],
   "source": []
  }
 ],
 "metadata": {
  "kernelspec": {
   "display_name": "Python 3",
   "language": "python",
   "name": "python3"
  },
  "language_info": {
   "codemirror_mode": {
    "name": "ipython",
    "version": 3
   },
   "file_extension": ".py",
   "mimetype": "text/x-python",
   "name": "python",
   "nbconvert_exporter": "python",
   "pygments_lexer": "ipython3",
   "version": "3.6.6"
  }
 },
 "nbformat": 4,
 "nbformat_minor": 2
}
