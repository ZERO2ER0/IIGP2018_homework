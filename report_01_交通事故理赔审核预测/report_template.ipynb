{
 "cells": [
  {
   "cell_type": "markdown",
   "metadata": {},
   "source": [
    "# Report01 - 交通事故理赔审核预测\n",
    "\n",
    "* 姓名 李晨\n",
    "* 学号 2018202069\n",
    "\n",
    "\n",
    "## 任务简介\n",
    "\n",
    "1. 任务类型：\n",
    "二元分类；预测事故方没有被理赔的概率。\n",
    "\n",
    "2. 背景介绍：\n",
    "在交通摩擦（事故）发生后，理赔员会前往现场勘察、采集信息，这些信息往往影响着车主是否能够得到保险公司的理赔。训练集数据包括理赔人员在现场对该事故方采集的36条信息，信息已经被编码，以及该事故方最终是否获得理赔。我们的任务是根据这36条信息预测该事故方没有被理赔的概率。 \n",
    "\n",
    "3. 数据来源： \n",
    "某汽车大数据网站；\n",
    "\n",
    "4. 数据介绍：\n",
    "训练集中共有200000条样本，预测集中有80000条样本。\n",
    "\n",
    "|变量名 | 解释 \n",
    ":-:| :-\n",
    "CaseId | 案例编号\n",
    "Q1 | 理赔员现场勘测采集到的信，Q1代表第一个问题的信息。信息被编码成数字，数字大小没有不代表真实关系\n",
    "Qk | 同上，Qk代表第k个问题。总共36个问题。  \n",
    "\n",
    "\n",
    "## 解决途径：\n",
    "对于二分类的问题，可以使用的算法有很多，这里我们讨论最简单直接的KNN，SVM以及随机森林算法。\n",
    "* 数据预处理：\n",
    "首先我们对数据进行简单的处理和读入"
   ]
  },
  {
   "cell_type": "code",
   "execution_count": 1,
   "metadata": {},
   "outputs": [],
   "source": [
    "# -*- encoding: utf-8 -*-\n",
    "# Copyright (c) 2019 - BrunoLee <19976561lichen@gmail.com>\n",
    "\n",
    "import pandas as pd\n",
    "import os.path as path\n",
    "import numpy as np"
   ]
  },
  {
   "cell_type": "code",
   "execution_count": 2,
   "metadata": {},
   "outputs": [],
   "source": [
    "# read data\n",
    "def readCsvData(fname):\n",
    "    fname = path.join('data', fname + '.csv')\n",
    "    table = pd.read_csv(fname, sep=',')\n",
    "    return table\n",
    "trainData = readCsvData('train')\n",
    "testData = readCsvData('test')"
   ]
  },
  {
   "cell_type": "markdown",
   "metadata": {},
   "source": [
    "参照数据说明，CaseID这列是没有意义的编号，因此这里将他丢弃。\n",
    "\n",
    "~drop()函数：axis指沿着哪个轴，0为行，1为列；inplace指是否在原数据上直接操作"
   ]
  },
  {
   "cell_type": "code",
   "execution_count": 3,
   "metadata": {},
   "outputs": [],
   "source": [
    "# 去掉没有意义的一列\n",
    "trainData.drop(\"CaseId\", axis=1, inplace=True)\n",
    "#testData.drop(\"CaseId\", axis=1, inplace=True)"
   ]
  },
  {
   "cell_type": "markdown",
   "metadata": {},
   "source": [
    "### 使用KNN训练模型    \n",
    "优点是简单，缺点有计算量与数据的大小成正比；对于样本分类不均衡的问题，会产生误判；K值的选择需要经过多次实验进行确定；    \n",
    "KNN()：\n",
    "* `n_neighbors` 投票选用最近的K个点进行投票；"
   ]
  },
  {
   "cell_type": "markdown",
   "metadata": {},
   "source": [
    "将训练数据打乱"
   ]
  },
  {
   "cell_type": "code",
   "execution_count": 4,
   "metadata": {},
   "outputs": [],
   "source": [
    "from sklearn.utils import shuffle\n",
    "trainData = shuffle(trainData)\n",
    "# trainData.head(15)\n",
    "# 分离标签值\n",
    "y_train = trainData.pop('Evaluation')\n",
    "# 划分数据为2:8, 2用于测试K值\n",
    "slash = int(trainData.shape[0] * 0.8)\n",
    "trainTrain, y_trainTrain = trainData[:slash], y_train[:slash]\n",
    "testTrain, y_testTrain = trainData[slash: ], y_train[slash: ]"
   ]
  },
  {
   "cell_type": "code",
   "execution_count": 5,
   "metadata": {},
   "outputs": [],
   "source": [
    "#训练KNN模型\n",
    "from sklearn import neighbors\n",
    "from sklearn.metrics import average_precision_score\n",
    "import sklearn\n",
    "\n",
    "testCaseNum = testTrain.shape[0]\n",
    "# 对于给定的近邻 K 值，计算其在分配的测试集上的效果\n",
    "def testNeighborNum(neighborNum):\n",
    "    #start = time.time()\n",
    "    knn = neighbors.KNeighborsClassifier(n_neighbors=neighborNum, n_jobs=-1)\n",
    "    knn.fit(trainTrain, y_trainTrain)\n",
    "\n",
    "    output = knn.predict(testTrain)\n",
    "    #testTime = time.time() - start\n",
    "    #print(output)\n",
    "    # 定义判定标准为平均的正确率\n",
    "    accuracy = 1 - np.sum(output ^ y_testTrain) / testCaseNum\n",
    "    #TrainTime = time.time() - start\n",
    "    avpr = average_precision_score(y_testTrain, output)  \n",
    "    #print(f'KNN Train time = {TrainTime:.2f}s')\n",
    "    return [neighborNum,avpr,accuracy]"
   ]
  },
  {
   "cell_type": "markdown",
   "metadata": {},
   "source": [
    "选取不同的K值进行实验，并画出K值与预测准确率的关系"
   ]
  },
  {
   "cell_type": "code",
   "execution_count": 6,
   "metadata": {},
   "outputs": [],
   "source": [
    "total, step = 500, 25\n",
    "result=[]\n",
    "for k in range(1, total+1,step):\n",
    "    result.append(testNeighborNum(k))\n",
    "#result = np.array(result)"
   ]
  },
  {
   "cell_type": "code",
   "execution_count": 14,
   "metadata": {},
   "outputs": [
    {
     "data": {
      "text/plain": [
       "Text(0, 0.5, 'AUC')"
      ]
     },
     "execution_count": 14,
     "metadata": {},
     "output_type": "execute_result"
    },
    {
     "data": {
      "image/png": "[encoded data removed]",
      "text/plain": [
       "<Figure size 432x288 with 2 Axes>"
      ]
     },
     "metadata": {
      "needs_background": "light"
     },
     "output_type": "display_data"
    }
   ],
   "source": [
    "from matplotlib.pyplot import *\n",
    "result = np.array(result)\n",
    "figure(1)\n",
    "ax1 = subplot(121)\n",
    "plot(result[:,0],result[:,2])\n",
    "#title(r\"$sin^2(x - 2) e^{-x^2}$\")\n",
    "xlabel(' K')\n",
    "ylabel(' Accuracy ')\n",
    "ax2 = subplot(122)\n",
    "plot(result[:,0],result[:,1])\n",
    "#title(r\"$sin^2(x - 2) e^{-x^2}$\")\n",
    "xlabel(' K')\n",
    "ylabel('AUC')"
   ]
  },
  {
   "cell_type": "markdown",
   "metadata": {},
   "source": [
    "由以上的验证结果可知\n",
    "\n",
    "- 当 $K < 200$ 时, 预测的结果均能维持正确率在 **90%** 以上，且总的训练时间加测试时间 **15s** 左右\n",
    "- 当 $K > 200$ 时，预测结果低于90%，且总的训练时间加测试时间 **20s**以内。\n",
    "\n",
    "---\n",
    "\n",
    "在之后的测试环节，选择 $K = 35$ 进行测试"
   ]
  },
  {
   "cell_type": "code",
   "execution_count": 8,
   "metadata": {},
   "outputs": [],
   "source": [
    "# 定义并训练分类器\n",
    "K = 35\n",
    "knn = neighbors.KNeighborsClassifier(n_neighbors=K, n_jobs=-1)\n",
    "knn.fit(trainData, y_train)\n",
    "\n",
    "caseIds =  testData.pop('CaseId')"
   ]
  },
  {
   "cell_type": "code",
   "execution_count": 9,
   "metadata": {},
   "outputs": [],
   "source": [
    "# 提交的是Evaluation为1的概率，故使用predict_proba进行预测\n",
    "\n",
    "outputs = knn.predict_proba(testData)\n",
    "submitFile = path.join('data', 'submit_prob.csv')\n",
    "with open(submitFile, 'w+') as f:\n",
    "    print('CaseId', 'Evaluation', sep=',', file=f)\n",
    "    for caseId, output in zip(caseIds, outputs):\n",
    "        print(caseId, output[1], sep=',', file=f)"
   ]
  },
  {
   "cell_type": "markdown",
   "metadata": {},
   "source": [
    "0.818832"
   ]
  },
  {
   "cell_type": "markdown",
   "metadata": {},
   "source": [
    "2. 使用随机森林训练模型    \n",
    "随机森林是一个包含多个决策树的分类器，输出的类型由输出的类别的众数而定。"
   ]
  },
  {
   "cell_type": "code",
   "execution_count": 10,
   "metadata": {},
   "outputs": [],
   "source": [
    "from sklearn.ensemble import RandomForestClassifier\n",
    "# 建立随机森林模型\n",
    "clf = RandomForestClassifier(n_estimators=500, random_state=0)\n",
    "clf.fit(trainData, y_train)\n",
    "# 预测\n",
    "y_preds = clf.predict_proba(testData)"
   ]
  },
  {
   "cell_type": "markdown",
   "metadata": {},
   "source": [
    "输出预测结果到submit_data.csv"
   ]
  },
  {
   "cell_type": "code",
   "execution_count": 11,
   "metadata": {},
   "outputs": [],
   "source": [
    "# 保存预测的结果\n",
    "submitFile = path.join('data', 'submit_probRf.csv')\n",
    "with open(submitFile, 'w+') as f:\n",
    "    print('CaseId', 'Evaluation', sep=',', file=f)\n",
    "    for caseId, y_pred in zip(caseIds, y_preds):\n",
    "        print(caseId, y_pred[1], sep=',', file=f)"
   ]
  },
  {
   "cell_type": "code",
   "execution_count": 12,
   "metadata": {},
   "outputs": [],
   "source": [
    "#print(output) "
   ]
  },
  {
   "cell_type": "markdown",
   "metadata": {},
   "source": [
    "## 总结\n",
    "这次报告任务是实现对交通事故理赔概率的预测，是一个简单的二分类问题。报告中我们使用了KNN近邻算法以及随机森林算法。其中KNN算法的准确率为81.88%，随机森林算法的准确率为85.12%。在二分类算法中，使用有监督算法和无监督算法也有较大的准确率差异，Kmeans等聚类算法的准确率不如有监督的KNN算法，KNN算法比不上包含多个决策树的的随机森林算法。由于KNN算法原理上的原因，K值的选取对准确率有很大的影响，需要设置一个合适的K值。"
   ]
  }
 ],
 "metadata": {
  "kernelspec": {
   "display_name": "Python 3",
   "language": "python",
   "name": "python3"
  },
  "language_info": {
   "codemirror_mode": {
    "name": "ipython",
    "version": 3
   },
   "file_extension": ".py",
   "mimetype": "text/x-python",
   "name": "python",
   "nbconvert_exporter": "python",
   "pygments_lexer": "ipython3",
   "version": "3.6.8"
  },
  "main_language": "python"
 },
 "nbformat": 4,
 "nbformat_minor": 2
}
